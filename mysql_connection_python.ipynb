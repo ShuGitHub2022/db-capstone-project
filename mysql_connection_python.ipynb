{
 "cells": [
  {
   "cell_type": "code",
   "execution_count": 1,
   "id": "33dd821d-f616-484e-8fb9-8942f3fd5fb0",
   "metadata": {},
   "outputs": [
    {
     "name": "stdout",
     "output_type": "stream",
     "text": [
      "Requirement already satisfied: mysql-connector-python in c:\\users\\liuch\\appdata\\local\\programs\\python\\python311\\lib\\site-packages (8.0.33)"
     ]
    },
    {
     "name": "stderr",
     "output_type": "stream",
     "text": [
      "\n",
      "[notice] A new release of pip is available: 23.2.1 -> 23.3.1\n",
      "[notice] To update, run: python.exe -m pip install --upgrade pip\n"
     ]
    },
    {
     "name": "stdout",
     "output_type": "stream",
     "text": [
      "\n",
      "Collecting protobuf<=3.20.3,>=3.11.0 (from mysql-connector-python)\n",
      "  Downloading protobuf-3.20.3-py2.py3-none-any.whl (162 kB)\n",
      "     ---------------------------------------- 0.0/162.1 kB ? eta -:--:--\n",
      "     -- ------------------------------------- 10.2/162.1 kB ? eta -:--:--\n",
      "     -------------------------- ----------- 112.6/162.1 kB 1.3 MB/s eta 0:00:01\n",
      "     -------------------------------------- 162.1/162.1 kB 1.6 MB/s eta 0:00:00\n",
      "Installing collected packages: protobuf\n",
      "  Attempting uninstall: protobuf\n",
      "    Found existing installation: protobuf 4.21.12\n",
      "    Uninstalling protobuf-4.21.12:\n",
      "      Successfully uninstalled protobuf-4.21.12\n",
      "Successfully installed protobuf-3.20.3\n"
     ]
    }
   ],
   "source": [
    "!pip install mysql-connector-python"
   ]
  },
  {
   "cell_type": "code",
   "execution_count": 52,
   "id": "5678345d-6e65-46f5-ac41-847dc82729cc",
   "metadata": {},
   "outputs": [],
   "source": [
    "import mysql.connector as connectoSHr"
   ]
  },
  {
   "cell_type": "code",
   "execution_count": 53,
   "id": "987efebe-c374-42d5-9329-f56e639b9a4f",
   "metadata": {},
   "outputs": [],
   "source": [
    "connection = connector.connect(database=\"little_lemon_db\",user=\"admin1\",password=\"780909790130\")"
   ]
  },
  {
   "cell_type": "code",
   "execution_count": 54,
   "id": "905debbe-76b9-4300-affe-58004f0902bf",
   "metadata": {},
   "outputs": [
    {
     "data": {
      "text/plain": [
       "'little_lemon_db'"
      ]
     },
     "execution_count": 54,
     "metadata": {},
     "output_type": "execute_result"
    }
   ],
   "source": [
    "connection.database"
   ]
  },
  {
   "cell_type": "code",
   "execution_count": 55,
   "id": "54c22492-bccc-4e1d-87a1-d76d3ee3e0ad",
   "metadata": {},
   "outputs": [],
   "source": [
    "cursor=connection.cursor()"
   ]
  },
  {
   "cell_type": "code",
   "execution_count": 56,
   "id": "73e4aff1-be15-453a-98d3-539a04be435b",
   "metadata": {},
   "outputs": [],
   "source": [
    "show_tables_query=\"SHOW tables\""
   ]
  },
  {
   "cell_type": "code",
   "execution_count": 57,
   "id": "0f20fdc1-aa56-4f22-b3ca-226d1908dd78",
   "metadata": {},
   "outputs": [],
   "source": [
    "cursor.execute(show_tables_query)"
   ]
  },
  {
   "cell_type": "code",
   "execution_count": 58,
   "id": "88cc6970-1dd8-4965-b2b5-f8d4753d1e00",
   "metadata": {},
   "outputs": [],
   "source": [
    "results=cursor.fetchall()"
   ]
  },
  {
   "cell_type": "code",
   "execution_count": 59,
   "id": "0ed6735d-2fe9-4345-af2d-bf9a90c37e28",
   "metadata": {},
   "outputs": [
    {
     "name": "stdout",
     "output_type": "stream",
     "text": [
      "('addresses',)\n",
      "('bookings',)\n",
      "('customer_order_view',)\n",
      "('customers',)\n",
      "('menu',)\n",
      "('menuitem',)\n",
      "('order_delivery',)\n",
      "('orders',)\n",
      "('ordersview',)\n",
      "('staff',)\n"
     ]
    }
   ],
   "source": [
    "for result in results:\n",
    "    print(result)"
   ]
  },
  {
   "cell_type": "code",
   "execution_count": 60,
   "id": "131860e5-399c-4d91-98cd-45c49affb6da",
   "metadata": {},
   "outputs": [
    {
     "name": "stdout",
     "output_type": "stream",
     "text": [
      "[('addresses',), ('bookings',), ('customer_order_view',), ('customers',), ('menu',), ('menuitem',), ('order_delivery',), ('orders',), ('ordersview',), ('staff',)]\n"
     ]
    }
   ],
   "source": [
    "print(results)"
   ]
  },
  {
   "cell_type": "code",
   "execution_count": 61,
   "id": "5f3e7430-21cb-4d08-807b-ec1db1d0ff3e",
   "metadata": {},
   "outputs": [
    {
     "name": "stdout",
     "output_type": "stream",
     "text": [
      "('FullName', 'ContactNumber', 'Address')\n",
      "('Tinna Hatch', '3218896315', '1547 West Cullumber street, Chicago, IL, 9843025')\n",
      "('Tinna Hatch', '3218896315', '1547 West Cullumber street, Chicago, IL, 9843025')\n"
     ]
    }
   ],
   "source": [
    "customer_sale_query=\"\"\"\n",
    "SELECT\n",
    "CONCAT(customers.customerFirstName, ' ', customers.customerLastName) as FullName, \n",
    "customers.contactNumber as ContactNumber,\n",
    "customers.Address\n",
    "FROM customers\n",
    "INNER JOIN orders ON customers.customerID = orders.customerID\n",
    "WHERE orders.bill_amount >60\n",
    "ORDER BY bill_amount DESC;\n",
    "\"\"\"\n",
    "cursor.execute(customer_sale_query)\n",
    "cols=cursor.column_names\n",
    "print(cols)\n",
    "results=cursor.fetchall()\n",
    "for result in results:\n",
    "    print(result)"
   ]
  },
  {
   "cell_type": "code",
   "execution_count": null,
   "id": "9061a2d0-cdb2-4d29-b368-41873227c251",
   "metadata": {},
   "outputs": [],
   "source": []
  }
 ],
 "metadata": {
  "kernelspec": {
   "display_name": "Python 3 (ipykernel)",
   "language": "python",
   "name": "python3"
  },
  "language_info": {
   "codemirror_mode": {
    "name": "ipython",
    "version": 3
   },
   "file_extension": ".py",
   "mimetype": "text/x-python",
   "name": "python",
   "nbconvert_exporter": "python",
   "pygments_lexer": "ipython3",
   "version": "3.11.6"
  }
 },
 "nbformat": 4,
 "nbformat_minor": 5
}
